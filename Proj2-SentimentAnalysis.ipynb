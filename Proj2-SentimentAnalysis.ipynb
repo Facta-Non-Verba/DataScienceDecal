{
 "cells": [
  {
   "cell_type": "code",
   "execution_count": 219,
   "metadata": {
    "collapsed": true
   },
   "outputs": [],
   "source": [
    "import numpy as np\n",
    "import pandas as pd\n",
    "import os\n",
    "import sklearn\n",
    "from sklearn import linear_model"
   ]
  },
  {
   "cell_type": "markdown",
   "metadata": {},
   "source": [
    "# Reading Data"
   ]
  },
  {
   "cell_type": "code",
   "execution_count": 220,
   "metadata": {
    "collapsed": true
   },
   "outputs": [],
   "source": [
    "def segmentWords(s): \n",
    "    return s.split()\n",
    "\n",
    "def readFile(fileName):\n",
    "    # Function for reading file\n",
    "    # input: filename as string\n",
    "    # output: contents of file as list containing single words\n",
    "    contents = []\n",
    "    f = open(fileName)\n",
    "    for line in f:\n",
    "        contents.append(line)\n",
    "    f.close()\n",
    "    result = segmentWords('\\n'.join(contents))\n",
    "    return result"
   ]
  },
  {
   "cell_type": "markdown",
   "metadata": {},
   "source": [
    "#### Create a Dataframe containing the counts of each word in a file"
   ]
  },
  {
   "cell_type": "code",
   "execution_count": 221,
   "metadata": {},
   "outputs": [],
   "source": [
    "d = []\n",
    "\n",
    "for c in os.listdir(\"data_training\"):\n",
    "    directory = \"data_training/\" + c\n",
    "    for file in os.listdir(directory):\n",
    "        words = readFile(directory + \"/\" + file)\n",
    "        e = {x:words.count(x) for x in words}\n",
    "        e['__FileID__'] = file\n",
    "        e['__CLASS__'] = directory[-3:]\n",
    "        d.append(e)\n",
    "        \n",
    "df = pd.DataFrame(d).fillna(0)\n"
   ]
  },
  {
   "cell_type": "code",
   "execution_count": 222,
   "metadata": {},
   "outputs": [],
   "source": [
    "df = df.drop([\"__FileID__\", \"__CLASS__\"], axis = 1)"
   ]
  },
  {
   "cell_type": "markdown",
   "metadata": {},
   "source": [
    "Create a dataframe from d - make sure to fill all the nan values with zeros.\n",
    "\n",
    "References:\n",
    "\n",
    "https://pandas.pydata.org/pandas-docs/stable/generated/pandas.DataFrame.html\n",
    "https://pandas.pydata.org/pandas-docs/stable/generated/pandas.DataFrame.fillna.html\n"
   ]
  },
  {
   "cell_type": "code",
   "execution_count": 223,
   "metadata": {},
   "outputs": [],
   "source": [
    "# Generates labels to classify on (0 for negative, 1 for positive)\n",
    "results = []\n",
    "for dic in d:\n",
    "    if dic[\"__CLASS__\"] == \"neg\":\n",
    "        results += [0]\n",
    "    else:\n",
    "        results += [1]\n",
    "\n",
    "results = np.array(results)\n",
    "assert len(results) == len(d) #sanity test, checks if the two are equal lengths)"
   ]
  },
  {
   "cell_type": "markdown",
   "metadata": {},
   "source": [
    "#### Split data into training and validation set "
   ]
  },
  {
   "cell_type": "markdown",
   "metadata": {
    "collapsed": true
   },
   "source": [
    "* Sample 80% of your dataframe to be the training data\n",
    "\n",
    "* Let the remaining 20% be the validation data (you can filter out the indicies of the original dataframe that weren't selected for the training data)\n",
    "\n",
    "References:\n",
    "\n",
    "https://pandas.pydata.org/pandas-docs/stable/generated/pandas.DataFrame.sample.html\n",
    "https://pandas.pydata.org/pandas-docs/stable/generated/pandas.DataFrame.drop.html"
   ]
  },
  {
   "cell_type": "code",
   "execution_count": 224,
   "metadata": {},
   "outputs": [],
   "source": [
    "keep = np.random.rand(len(df)) < 0.8 #gets boolean array of true of about 80% of the indices\n",
    "X_train = df[keep]\n",
    "Y_train = results[keep]\n",
    "X_test = df[~keep]\n",
    "Y_test = results[~keep]"
   ]
  },
  {
   "cell_type": "markdown",
   "metadata": {},
   "source": [
    "* Split the dataframe for both training and validation data into x and y dataframes - where y contains the labels and x contains the words\n",
    "\n",
    "References:\n",
    "\n",
    "https://pandas.pydata.org/pandas-docs/stable/generated/pandas.DataFrame.drop.html"
   ]
  },
  {
   "cell_type": "markdown",
   "metadata": {},
   "source": [
    "# Logistic Regression"
   ]
  },
  {
   "cell_type": "markdown",
   "metadata": {},
   "source": [
    "#### Basic Logistic Regression\n",
    "* Use sklearn's linear_model.LogisticRegression() to create your model.\n",
    "* Fit the data and labels with your model.\n",
    "* Score your model with the same data and labels.\n",
    "\n",
    "References:\n",
    "\n",
    "http://scikit-learn.org/stable/modules/generated/sklearn.linear_model.LogisticRegression.html"
   ]
  },
  {
   "cell_type": "code",
   "execution_count": 252,
   "metadata": {},
   "outputs": [
    {
     "name": "stdout",
     "output_type": "stream",
     "text": [
      "0.823728813559\n",
      "1.0\n"
     ]
    }
   ],
   "source": [
    "logReg = linear_model.LogisticRegression()\n",
    "logReg.fit(X_train, Y_train)\n",
    "val = logReg.score(X_test, Y_test) #gets accuracy of the regression model on the test data set aside, about 82%\n",
    "print(val)  \n",
    "print(logReg.score(X_train, Y_train)) #perfect accuracy on training data"
   ]
  },
  {
   "cell_type": "markdown",
   "metadata": {},
   "source": [
    "#### Changing Parameters"
   ]
  },
  {
   "cell_type": "code",
   "execution_count": 226,
   "metadata": {},
   "outputs": [
    {
     "name": "stdout",
     "output_type": "stream",
     "text": [
      "0.796610169492\n"
     ]
    }
   ],
   "source": [
    "logRegL1 = linear_model.LogisticRegression(penalty = \"l1\")\n",
    "logRegL1.fit(X_train, Y_train)\n",
    "val = logRegL1.score(X_test, Y_test) #gets accuracy of the regression model with L1 on the test data set aside, about 80%\n",
    "print(val)  "
   ]
  },
  {
   "cell_type": "code",
   "execution_count": 227,
   "metadata": {},
   "outputs": [
    {
     "name": "stdout",
     "output_type": "stream",
     "text": [
      "0.823728813559\n"
     ]
    }
   ],
   "source": [
    "logRegL2 = linear_model.LogisticRegression(penalty = \"l2\", max_iter = 5)\n",
    "logRegL2.fit(X_train, Y_train)\n",
    "val = logRegL2.score(X_test, Y_test) #gets accuracy of the regression model with iteration changed, about 82%\n",
    "print(val)  "
   ]
  },
  {
   "cell_type": "markdown",
   "metadata": {},
   "source": [
    "#### Feature Selection\n",
    "* In the backward stepsize selection method, you can remove coefficients and the corresponding x columns, where the coefficient is more than a particular amount away from the mean - you can choose how far from the mean is reasonable.\n",
    "\n",
    "References:\n",
    "\n",
    "https://pandas.pydata.org/pandas-docs/stable/generated/pandas.DataFrame.html#\n",
    "https://pandas.pydata.org/pandas-docs/stable/generated/pandas.DataFrame.sample.html\n",
    "https://pandas.pydata.org/pandas-docs/stable/generated/pandas.DataFrame.drop.html\n",
    "http://scikit-learn.org/stable/modules/generated/sklearn.linear_model.LogisticRegression.html\n",
    "https://docs.scipy.org/doc/numpy-1.13.0/reference/generated/numpy.where.html\n",
    "https://docs.scipy.org/doc/numpy-1.13.0/reference/generated/numpy.std.html\n",
    "https://docs.scipy.org/doc/numpy-1.13.0/reference/generated/numpy.mean.html"
   ]
  },
  {
   "cell_type": "code",
   "execution_count": 228,
   "metadata": {},
   "outputs": [
    {
     "name": "stdout",
     "output_type": "stream",
     "text": [
      "47.07726100658963 130.91053635492503\n"
     ]
    }
   ],
   "source": [
    "contains = df.copy()\n",
    "contains[contains != 0] = 1\n",
    "counts = contains.sum(axis = 0)\n",
    "counts = counts[counts > 5] #removes all the values where a word occurs in less than 5 reviews\n",
    "print(counts.mean(), counts.std()) #mean is 47, std is 131, not very helpful"
   ]
  },
  {
   "cell_type": "code",
   "execution_count": 229,
   "metadata": {},
   "outputs": [
    {
     "name": "stdout",
     "output_type": "stream",
     "text": [
      "107.16082513609015 1229.8820962573634\n"
     ]
    }
   ],
   "source": [
    "totals = df[counts.index].sum(axis = 0)\n",
    "print(totals.mean(), totals.std()) #mean is 107, std is 1230"
   ]
  },
  {
   "cell_type": "code",
   "execution_count": 230,
   "metadata": {},
   "outputs": [
    {
     "name": "stdout",
     "output_type": "stream",
     "text": [
      "1.2545832949484312 0.8434438884436462\n"
     ]
    }
   ],
   "source": [
    "avg = totals / counts #playing around with the average like this is not very helpful, because there are no values less than 1 which makes it hard to select features\n",
    "print(avg.mean(), avg.std()) #mean is 1.25, std is 0.84"
   ]
  },
  {
   "cell_type": "code",
   "execution_count": 231,
   "metadata": {},
   "outputs": [
    {
     "name": "stdout",
     "output_type": "stream",
     "text": [
      "0.010234058364634483 0.11745603058517363\n"
     ]
    }
   ],
   "source": [
    "a = totals / len(counts) #checks the number of times each word occurs on average across all reviews\n",
    "print(a.mean(), a.std()) #mean is 0.01, std is 0.11"
   ]
  },
  {
   "cell_type": "code",
   "execution_count": 232,
   "metadata": {},
   "outputs": [],
   "source": [
    "totals = totals[totals >= 10] #removes all the words who occur in a total of less than 10 times across the 1600 odd reviews"
   ]
  },
  {
   "cell_type": "code",
   "execution_count": 233,
   "metadata": {},
   "outputs": [
    {
     "data": {
      "text/html": [
       "<div>\n",
       "<style>\n",
       "    .dataframe thead tr:only-child th {\n",
       "        text-align: right;\n",
       "    }\n",
       "\n",
       "    .dataframe thead th {\n",
       "        text-align: left;\n",
       "    }\n",
       "\n",
       "    .dataframe tbody tr th {\n",
       "        vertical-align: top;\n",
       "    }\n",
       "</style>\n",
       "<table border=\"1\" class=\"dataframe\">\n",
       "  <thead>\n",
       "    <tr style=\"text-align: right;\">\n",
       "      <th></th>\n",
       "      <th>!</th>\n",
       "      <th>\"</th>\n",
       "      <th>#1</th>\n",
       "      <th>#2</th>\n",
       "      <th>$100</th>\n",
       "      <th>$200</th>\n",
       "      <th>$50</th>\n",
       "      <th>&amp;</th>\n",
       "      <th>'</th>\n",
       "      <th>'60s</th>\n",
       "      <th>...</th>\n",
       "      <th>youth</th>\n",
       "      <th>yuppie</th>\n",
       "      <th>zahn</th>\n",
       "      <th>zane</th>\n",
       "      <th>zany</th>\n",
       "      <th>zellweger</th>\n",
       "      <th>zero</th>\n",
       "      <th>zeta-jones</th>\n",
       "      <th>zone</th>\n",
       "      <th>zooms</th>\n",
       "    </tr>\n",
       "  </thead>\n",
       "  <tbody>\n",
       "    <tr>\n",
       "      <th>0</th>\n",
       "      <td>3.0</td>\n",
       "      <td>10.0</td>\n",
       "      <td>0.0</td>\n",
       "      <td>0.0</td>\n",
       "      <td>0.0</td>\n",
       "      <td>0.0</td>\n",
       "      <td>0.0</td>\n",
       "      <td>1.0</td>\n",
       "      <td>0.0</td>\n",
       "      <td>0.0</td>\n",
       "      <td>...</td>\n",
       "      <td>0.0</td>\n",
       "      <td>0.0</td>\n",
       "      <td>0.0</td>\n",
       "      <td>0.0</td>\n",
       "      <td>0.0</td>\n",
       "      <td>0.0</td>\n",
       "      <td>0.0</td>\n",
       "      <td>0.0</td>\n",
       "      <td>0.0</td>\n",
       "      <td>0.0</td>\n",
       "    </tr>\n",
       "    <tr>\n",
       "      <th>1</th>\n",
       "      <td>0.0</td>\n",
       "      <td>2.0</td>\n",
       "      <td>0.0</td>\n",
       "      <td>0.0</td>\n",
       "      <td>0.0</td>\n",
       "      <td>0.0</td>\n",
       "      <td>0.0</td>\n",
       "      <td>0.0</td>\n",
       "      <td>0.0</td>\n",
       "      <td>0.0</td>\n",
       "      <td>...</td>\n",
       "      <td>0.0</td>\n",
       "      <td>0.0</td>\n",
       "      <td>0.0</td>\n",
       "      <td>0.0</td>\n",
       "      <td>0.0</td>\n",
       "      <td>0.0</td>\n",
       "      <td>0.0</td>\n",
       "      <td>0.0</td>\n",
       "      <td>0.0</td>\n",
       "      <td>0.0</td>\n",
       "    </tr>\n",
       "    <tr>\n",
       "      <th>2</th>\n",
       "      <td>0.0</td>\n",
       "      <td>0.0</td>\n",
       "      <td>0.0</td>\n",
       "      <td>0.0</td>\n",
       "      <td>0.0</td>\n",
       "      <td>0.0</td>\n",
       "      <td>0.0</td>\n",
       "      <td>0.0</td>\n",
       "      <td>0.0</td>\n",
       "      <td>0.0</td>\n",
       "      <td>...</td>\n",
       "      <td>0.0</td>\n",
       "      <td>0.0</td>\n",
       "      <td>0.0</td>\n",
       "      <td>0.0</td>\n",
       "      <td>0.0</td>\n",
       "      <td>0.0</td>\n",
       "      <td>0.0</td>\n",
       "      <td>0.0</td>\n",
       "      <td>0.0</td>\n",
       "      <td>0.0</td>\n",
       "    </tr>\n",
       "    <tr>\n",
       "      <th>3</th>\n",
       "      <td>0.0</td>\n",
       "      <td>20.0</td>\n",
       "      <td>0.0</td>\n",
       "      <td>0.0</td>\n",
       "      <td>0.0</td>\n",
       "      <td>0.0</td>\n",
       "      <td>0.0</td>\n",
       "      <td>0.0</td>\n",
       "      <td>1.0</td>\n",
       "      <td>0.0</td>\n",
       "      <td>...</td>\n",
       "      <td>0.0</td>\n",
       "      <td>0.0</td>\n",
       "      <td>0.0</td>\n",
       "      <td>0.0</td>\n",
       "      <td>0.0</td>\n",
       "      <td>0.0</td>\n",
       "      <td>0.0</td>\n",
       "      <td>0.0</td>\n",
       "      <td>0.0</td>\n",
       "      <td>0.0</td>\n",
       "    </tr>\n",
       "    <tr>\n",
       "      <th>4</th>\n",
       "      <td>0.0</td>\n",
       "      <td>4.0</td>\n",
       "      <td>0.0</td>\n",
       "      <td>0.0</td>\n",
       "      <td>0.0</td>\n",
       "      <td>0.0</td>\n",
       "      <td>0.0</td>\n",
       "      <td>0.0</td>\n",
       "      <td>0.0</td>\n",
       "      <td>0.0</td>\n",
       "      <td>...</td>\n",
       "      <td>0.0</td>\n",
       "      <td>0.0</td>\n",
       "      <td>0.0</td>\n",
       "      <td>0.0</td>\n",
       "      <td>0.0</td>\n",
       "      <td>0.0</td>\n",
       "      <td>0.0</td>\n",
       "      <td>0.0</td>\n",
       "      <td>0.0</td>\n",
       "      <td>0.0</td>\n",
       "    </tr>\n",
       "  </tbody>\n",
       "</table>\n",
       "<p>5 rows × 7793 columns</p>\n",
       "</div>"
      ],
      "text/plain": [
       "     !     \"   #1   #2  $100  $200  $50    &    '  '60s  ...    youth  yuppie  \\\n",
       "0  3.0  10.0  0.0  0.0   0.0   0.0  0.0  1.0  0.0   0.0  ...      0.0     0.0   \n",
       "1  0.0   2.0  0.0  0.0   0.0   0.0  0.0  0.0  0.0   0.0  ...      0.0     0.0   \n",
       "2  0.0   0.0  0.0  0.0   0.0   0.0  0.0  0.0  0.0   0.0  ...      0.0     0.0   \n",
       "3  0.0  20.0  0.0  0.0   0.0   0.0  0.0  0.0  1.0   0.0  ...      0.0     0.0   \n",
       "4  0.0   4.0  0.0  0.0   0.0   0.0  0.0  0.0  0.0   0.0  ...      0.0     0.0   \n",
       "\n",
       "   zahn  zane  zany  zellweger  zero  zeta-jones  zone  zooms  \n",
       "0   0.0   0.0   0.0        0.0   0.0         0.0   0.0    0.0  \n",
       "1   0.0   0.0   0.0        0.0   0.0         0.0   0.0    0.0  \n",
       "2   0.0   0.0   0.0        0.0   0.0         0.0   0.0    0.0  \n",
       "3   0.0   0.0   0.0        0.0   0.0         0.0   0.0    0.0  \n",
       "4   0.0   0.0   0.0        0.0   0.0         0.0   0.0    0.0  \n",
       "\n",
       "[5 rows x 7793 columns]"
      ]
     },
     "execution_count": 233,
     "metadata": {},
     "output_type": "execute_result"
    }
   ],
   "source": [
    "mod = df[totals.index]\n",
    "mod.head()"
   ]
  },
  {
   "cell_type": "markdown",
   "metadata": {},
   "source": [
    "How did you select which features to remove? Why did that reduce overfitting?"
   ]
  },
  {
   "cell_type": "code",
   "execution_count": 234,
   "metadata": {
    "collapsed": true
   },
   "outputs": [],
   "source": [
    "#initializes new set of training and test sets\n",
    "keep = np.random.rand(len(mod)) < 0.8 #gets boolean array of true of about 80% of the indices\n",
    "Xrem_train = mod[keep]\n",
    "Yrem_train = results[keep]\n",
    "Xrem_test = mod[~keep]\n",
    "Yrem_test = results[~keep]"
   ]
  },
  {
   "cell_type": "code",
   "execution_count": 235,
   "metadata": {},
   "outputs": [
    {
     "name": "stdout",
     "output_type": "stream",
     "text": [
      "0.849529780564\n"
     ]
    }
   ],
   "source": [
    "logReg = linear_model.LogisticRegression()\n",
    "logReg.fit(Xrem_train, Yrem_train)\n",
    "val = logReg.score(Xrem_test, Yrem_test) #gets accuracy of the regression model on the test data set aside, about 85%\n",
    "print(val) #went up a WHOLE 3%!!!! guess the feature removal didn't do much"
   ]
  },
  {
   "cell_type": "markdown",
   "metadata": {},
   "source": [
    "# Single Decision Tree"
   ]
  },
  {
   "cell_type": "markdown",
   "metadata": {},
   "source": [
    "#### Basic Decision Tree\n",
    "\n",
    "* Initialize your model as a decision tree with sklearn.\n",
    "* Fit the data and labels to the model.\n",
    "\n",
    "References:\n",
    "\n",
    "http://scikit-learn.org/stable/modules/generated/sklearn.tree.DecisionTreeClassifier.html\n"
   ]
  },
  {
   "cell_type": "code",
   "execution_count": 253,
   "metadata": {},
   "outputs": [
    {
     "name": "stdout",
     "output_type": "stream",
     "text": [
      "0.677966101695\n",
      "1.0\n"
     ]
    }
   ],
   "source": [
    "from sklearn import tree\n",
    "dTree = tree.DecisionTreeClassifier()\n",
    "dTree.fit(X_train, Y_train)\n",
    "val = dTree.score(X_test, Y_test)\n",
    "print(val) #The accuracy of the model is about 68%\n",
    "print(dTree.score(X_train, Y_train)) #perfect accuracy in training data"
   ]
  },
  {
   "cell_type": "markdown",
   "metadata": {},
   "source": [
    "#### Changing Parameters\n",
    "* To test out which value is optimal for a particular parameter, you can either loop through various values or look into sklearn.model_selection.GridSearchCV\n",
    "\n",
    "References:\n",
    "\n",
    "\n",
    "http://scikit-learn.org/stable/modules/generated/sklearn.model_selection.GridSearchCV.html\n",
    "http://scikit-learn.org/stable/modules/generated/sklearn.tree.DecisionTreeClassifier.html"
   ]
  },
  {
   "cell_type": "code",
   "execution_count": 260,
   "metadata": {},
   "outputs": [],
   "source": [
    "#might have been causing bugs\n",
    "df = df.rename(columns = {'fit' : \"FIT\"}) "
   ]
  },
  {
   "cell_type": "code",
   "execution_count": 279,
   "metadata": {},
   "outputs": [
    {
     "data": {
      "text/plain": [
       "GridSearchCV(cv=None, error_score='raise',\n",
       "       estimator=DecisionTreeClassifier(class_weight=None, criterion='gini', max_depth=None,\n",
       "            max_features=None, max_leaf_nodes=None,\n",
       "            min_impurity_split=1e-07, min_samples_leaf=1,\n",
       "            min_samples_split=2, min_weight_fraction_leaf=0.0,\n",
       "            presort=False, random_state=None, splitter='best'),\n",
       "       fit_params={}, iid=True, n_jobs=1,\n",
       "       param_grid={'max_depth': [10, 20, 30, 40, 50, 60, 70, 80, 90]},\n",
       "       pre_dispatch='2*n_jobs', refit=True, return_train_score=True,\n",
       "       scoring=None, verbose=0)"
      ]
     },
     "execution_count": 279,
     "metadata": {},
     "output_type": "execute_result"
    }
   ],
   "source": [
    "from sklearn import model_selection\n",
    "dtree = tree.DecisionTreeClassifier()\n",
    "depth = list(range(10,100,10))\n",
    "parameters = {\"max_depth\" : depth}\n",
    "gridS = model_selection.GridSearchCV(dtree, parameters)\n",
    "gridS.fit(df, results)"
   ]
  },
  {
   "cell_type": "code",
   "execution_count": 280,
   "metadata": {},
   "outputs": [
    {
     "data": {
      "text/plain": [
       "{'mean_fit_time': array([ 3.86118531,  3.97974078,  3.8789684 ,  3.75073719,  4.02684458,\n",
       "         3.91321365,  4.03707194,  3.79144104,  3.98977367]),\n",
       " 'mean_score_time': array([ 0.41895183,  0.36112491,  0.29602591,  0.2995255 ,  0.3232975 ,\n",
       "         0.30991968,  0.36127059,  0.28695973,  0.34287572]),\n",
       " 'mean_test_score': array([ 0.62625 ,  0.62    ,  0.63125 ,  0.625625,  0.63125 ,  0.62375 ,\n",
       "         0.631875,  0.62875 ,  0.62375 ]),\n",
       " 'mean_train_score': array([ 0.92751205,  0.9987498 ,  1.        ,  1.        ,  1.        ,\n",
       "         1.        ,  1.        ,  1.        ,  1.        ]),\n",
       " 'param_max_depth': masked_array(data = [10 20 30 40 50 60 70 80 90],\n",
       "              mask = [False False False False False False False False False],\n",
       "        fill_value = ?),\n",
       " 'params': ({'max_depth': 10},\n",
       "  {'max_depth': 20},\n",
       "  {'max_depth': 30},\n",
       "  {'max_depth': 40},\n",
       "  {'max_depth': 50},\n",
       "  {'max_depth': 60},\n",
       "  {'max_depth': 70},\n",
       "  {'max_depth': 80},\n",
       "  {'max_depth': 90}),\n",
       " 'rank_test_score': array([5, 9, 2, 6, 2, 7, 1, 4, 7], dtype=int32),\n",
       " 'split0_test_score': array([ 0.61423221,  0.62359551,  0.62359551,  0.61423221,  0.63108614,\n",
       "         0.61985019,  0.62546816,  0.61048689,  0.62359551]),\n",
       " 'split0_train_score': array([ 0.95028143,  0.99812383,  1.        ,  1.        ,  1.        ,\n",
       "         1.        ,  1.        ,  1.        ,  1.        ]),\n",
       " 'split1_test_score': array([ 0.64044944,  0.60299625,  0.62921348,  0.62172285,  0.62359551,\n",
       "         0.62546816,  0.62921348,  0.63857678,  0.62359551]),\n",
       " 'split1_train_score': array([ 0.92401501,  0.99906191,  1.        ,  1.        ,  1.        ,\n",
       "         1.        ,  1.        ,  1.        ,  1.        ]),\n",
       " 'split2_test_score': array([ 0.62406015,  0.63345865,  0.64097744,  0.64097744,  0.63909774,\n",
       "         0.62593985,  0.64097744,  0.63721805,  0.62406015]),\n",
       " 'split2_train_score': array([ 0.9082397 ,  0.99906367,  1.        ,  1.        ,  1.        ,\n",
       "         1.        ,  1.        ,  1.        ,  1.        ]),\n",
       " 'std_fit_time': array([ 0.06438125,  0.20214642,  0.07444276,  0.13625317,  0.46675532,\n",
       "         0.11605506,  0.31207086,  0.15199462,  0.118114  ]),\n",
       " 'std_score_time': array([ 0.03934287,  0.04616837,  0.01652549,  0.03910436,  0.02962915,\n",
       "         0.02500168,  0.07544082,  0.0138489 ,  0.05089825]),\n",
       " 'std_test_score': array([ 0.01082077,  0.01269009,  0.00723887,  0.01125925,  0.00632784,\n",
       "         0.00276687,  0.00660401,  0.01293797,  0.0002189 ]),\n",
       " 'std_train_score': array([ 0.01734068,  0.00044263,  0.        ,  0.        ,  0.        ,\n",
       "         0.        ,  0.        ,  0.        ,  0.        ])}"
      ]
     },
     "execution_count": 280,
     "metadata": {},
     "output_type": "execute_result"
    }
   ],
   "source": [
    "gridS.cv_results_"
   ]
  },
  {
   "cell_type": "markdown",
   "metadata": {},
   "source": [
    "How did you choose which parameters to change and what value to give to them? Feel free to show a plot."
   ]
  },
  {
   "cell_type": "code",
   "execution_count": 281,
   "metadata": {},
   "outputs": [
    {
     "data": {
      "image/png": "[encoded data removed]",
      "text/plain": [
       "<matplotlib.figure.Figure at 0x120a7ab38>"
      ]
     },
     "metadata": {},
     "output_type": "display_data"
    }
   ],
   "source": [
    "#unfortunately, my macbook air is not powerful enough to do more computations before the universe blows up\n",
    "import matplotlib.pyplot as plt\n",
    "plt.plot(depth, gridS.cv_results_['mean_test_score'])\n",
    "plt.ylabel(\"Test Accuracy\")\n",
    "plt.xlabel(\"Depth of Tree\")\n",
    "plt.title(\"Accuracy of Decision Tree across Different Depths\")\n",
    "plt.show()"
   ]
  },
  {
   "cell_type": "markdown",
   "metadata": {},
   "source": [
    "Why is a single decision tree so prone to overfitting?"
   ]
  },
  {
   "cell_type": "code",
   "execution_count": null,
   "metadata": {
    "collapsed": true
   },
   "outputs": [],
   "source": []
  },
  {
   "cell_type": "markdown",
   "metadata": {},
   "source": [
    "# Random Forest Classifier"
   ]
  },
  {
   "cell_type": "markdown",
   "metadata": {},
   "source": [
    "#### Basic Random Forest\n",
    "\n",
    "* Use sklearn's ensemble.RandomForestClassifier() to create your model.\n",
    "* Fit the data and labels with your model.\n",
    "* Score your model with the same data and labels.\n",
    "\n",
    "References:\n",
    "\n",
    "http://scikit-learn.org/stable/modules/generated/sklearn.ensemble.RandomForestClassifier.html\n"
   ]
  },
  {
   "cell_type": "code",
   "execution_count": 267,
   "metadata": {},
   "outputs": [
    {
     "name": "stdout",
     "output_type": "stream",
     "text": [
      "0.674576271186\n",
      "0.991570881226\n"
     ]
    }
   ],
   "source": [
    "from sklearn import ensemble\n",
    "rForest = ensemble.RandomForestClassifier()\n",
    "rForest.fit(X_train, Y_train)\n",
    "RFscore = rForest.score(X_test, Y_test)\n",
    "print(RFscore) #test score is 67%\n",
    "print(rForest.score(X_train, Y_train)) #training score is 99%"
   ]
  },
  {
   "cell_type": "markdown",
   "metadata": {},
   "source": [
    "#### Changing Parameters"
   ]
  },
  {
   "cell_type": "code",
   "execution_count": 273,
   "metadata": {},
   "outputs": [
    {
     "data": {
      "text/plain": [
       "GridSearchCV(cv=None, error_score='raise',\n",
       "       estimator=RandomForestClassifier(bootstrap=True, class_weight=None, criterion='gini',\n",
       "            max_depth=None, max_features='auto', max_leaf_nodes=None,\n",
       "            min_impurity_split=1e-07, min_samples_leaf=1,\n",
       "            min_samples_split=2, min_weight_fraction_leaf=0.0,\n",
       "            n_estimators=10, n_jobs=1, oob_score=False, random_state=None,\n",
       "            verbose=0, warm_start=False),\n",
       "       fit_params={}, iid=True, n_jobs=1,\n",
       "       param_grid={'n_estimators': [15, 30, 45, 60, 75, 90, 105, 120, 135]},\n",
       "       pre_dispatch='2*n_jobs', refit=True, return_train_score=True,\n",
       "       scoring=None, verbose=0)"
      ]
     },
     "execution_count": 273,
     "metadata": {},
     "output_type": "execute_result"
    }
   ],
   "source": [
    "#play around with the number of trees\n",
    "rFor = ensemble.RandomForestClassifier()\n",
    "num = list(range(15,150,15))\n",
    "parameters = {\"n_estimators\" : num}\n",
    "gridF = model_selection.GridSearchCV(rFor, parameters)\n",
    "gridF.fit(df, results)"
   ]
  },
  {
   "cell_type": "markdown",
   "metadata": {},
   "source": [
    "What parameters did you choose to change and why?"
   ]
  },
  {
   "cell_type": "code",
   "execution_count": 274,
   "metadata": {},
   "outputs": [
    {
     "data": {
      "image/png": "[encoded data removed]",
      "text/plain": [
       "<matplotlib.figure.Figure at 0x120a8ce80>"
      ]
     },
     "metadata": {},
     "output_type": "display_data"
    }
   ],
   "source": [
    "plt.plot(num, gridF.cv_results_['mean_test_score'])\n",
    "plt.ylabel(\"Test Accuracy\")\n",
    "plt.xlabel(\"Number of Trees\")\n",
    "plt.title(\"Accuracy of Random Forset across Different Forest Sizes\")\n",
    "plt.show()"
   ]
  },
  {
   "cell_type": "markdown",
   "metadata": {},
   "source": [
    "How does a random forest classifier prevent overfitting better than a single decision tree?"
   ]
  },
  {
   "cell_type": "code",
   "execution_count": 278,
   "metadata": {},
   "outputs": [
    {
     "data": {
      "text/plain": [
       "{'mean_fit_time': array([ 2.49638096,  2.24348799,  2.66984264,  3.28940002,  4.35948706,\n",
       "         4.86069981,  5.55503074,  6.210893  ,  7.09367514]),\n",
       " 'mean_score_time': array([ 0.40332063,  0.25835943,  0.26743038,  0.29497337,  0.40457122,\n",
       "         0.37963319,  0.41709097,  0.44089429,  0.45117164]),\n",
       " 'mean_test_score': array([ 0.685   ,  0.71125 ,  0.739375,  0.76875 ,  0.77375 ,  0.775625,\n",
       "         0.775   ,  0.788125,  0.77625 ]),\n",
       " 'mean_train_score': array([ 0.99843769,  1.        ,  1.        ,  1.        ,  1.        ,\n",
       "         1.        ,  1.        ,  1.        ,  1.        ]),\n",
       " 'param_n_estimators': masked_array(data = [15 30 45 60 75 90 105 120 135],\n",
       "              mask = [False False False False False False False False False],\n",
       "        fill_value = ?),\n",
       " 'params': ({'n_estimators': 15},\n",
       "  {'n_estimators': 30},\n",
       "  {'n_estimators': 45},\n",
       "  {'n_estimators': 60},\n",
       "  {'n_estimators': 75},\n",
       "  {'n_estimators': 90},\n",
       "  {'n_estimators': 105},\n",
       "  {'n_estimators': 120},\n",
       "  {'n_estimators': 135}),\n",
       " 'rank_test_score': array([9, 8, 7, 6, 5, 3, 4, 1, 2], dtype=int32),\n",
       " 'split0_test_score': array([ 0.6741573 ,  0.68726592,  0.73782772,  0.74157303,  0.76779026,\n",
       "         0.76029963,  0.74906367,  0.77715356,  0.75093633]),\n",
       " 'split0_train_score': array([ 0.99718574,  1.        ,  1.        ,  1.        ,  1.        ,\n",
       "         1.        ,  1.        ,  1.        ,  1.        ]),\n",
       " 'split1_test_score': array([ 0.6928839 ,  0.71348315,  0.72097378,  0.78277154,  0.78838951,\n",
       "         0.76966292,  0.77340824,  0.78277154,  0.79213483]),\n",
       " 'split1_train_score': array([ 1.,  1.,  1.,  1.,  1.,  1.,  1.,  1.,  1.]),\n",
       " 'split2_test_score': array([ 0.68796992,  0.73308271,  0.7593985 ,  0.78195489,  0.76503759,\n",
       "         0.79699248,  0.80263158,  0.80451128,  0.78571429]),\n",
       " 'split2_train_score': array([ 0.99812734,  1.        ,  1.        ,  1.        ,  1.        ,\n",
       "         1.        ,  1.        ,  1.        ,  1.        ]),\n",
       " 'std_fit_time': array([ 0.04191844,  0.12735491,  0.04798644,  0.08119716,  0.25615129,\n",
       "         0.17332435,  0.36208042,  0.32418183,  0.43311103]),\n",
       " 'std_score_time': array([ 0.03475226,  0.02110511,  0.02419666,  0.0561046 ,  0.14327697,\n",
       "         0.04506942,  0.10798949,  0.09273999,  0.09250648]),\n",
       " 'std_test_score': array([ 0.00793185,  0.01876543,  0.01572008,  0.01923792,  0.01042213,\n",
       "         0.01555827,  0.02189114,  0.01179064,  0.01810686]),\n",
       " 'std_train_score': array([ 0.00116969,  0.        ,  0.        ,  0.        ,  0.        ,\n",
       "         0.        ,  0.        ,  0.        ,  0.        ])}"
      ]
     },
     "execution_count": 278,
     "metadata": {},
     "output_type": "execute_result"
    }
   ],
   "source": [
    "gridF.cv_results_"
   ]
  },
  {
   "cell_type": "code",
   "execution_count": null,
   "metadata": {
    "collapsed": true
   },
   "outputs": [],
   "source": []
  }
 ],
 "metadata": {
  "kernelspec": {
   "display_name": "Python 3",
   "language": "python",
   "name": "python3"
  },
  "language_info": {
   "codemirror_mode": {
    "name": "ipython",
    "version": 3
   },
   "file_extension": ".py",
   "mimetype": "text/x-python",
   "name": "python",
   "nbconvert_exporter": "python",
   "pygments_lexer": "ipython3",
   "version": "3.6.1"
  }
 },
 "nbformat": 4,
 "nbformat_minor": 1
}
